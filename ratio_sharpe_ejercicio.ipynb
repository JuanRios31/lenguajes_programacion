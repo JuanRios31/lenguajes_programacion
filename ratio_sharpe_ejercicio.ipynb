{
  "nbformat": 4,
  "nbformat_minor": 0,
  "metadata": {
    "colab": {
      "provenance": []
    },
    "kernelspec": {
      "name": "python3",
      "display_name": "Python 3"
    },
    "language_info": {
      "name": "python"
    }
  },
  "cells": [
    {
      "cell_type": "markdown",
      "source": [
        "#**Ratio de Sharpe**\n",
        "El ratio de Sharpe es una medida utilizada en finanzas para evaluar el rendimiento de una inversión en relación con su riesgo. Fue desarrollado por el premio Nobel William F. Sharpe y se calcula dividiendo el exceso de rendimiento de la inversión (es decir, el rendimiento de la inversión menos la tasa libre de riesgo) entre la volatilidad o desviación estándar de los rendimientos de la inversión.\n",
        "\n",
        "## **Calculo del Ratio de Sharpe**\n",
        "\n",
        "\n",
        "$$ S = {\\frac {Rp-Rf}{\\sigma}}$$\n",
        "\n",
        "Donde:\n",
        "- **(Rp)** = Rentabilidad del Portafolio\n",
        "- **(Rf)** = Tasa Libre de Riesgo\n",
        "- **$\\sigma$** = Desviación Estandar\n",
        "\n",
        "## **Interpretación**\n",
        "\n",
        "- Un ratio de Sharpe alto (>1) indica que la inversión ha generado un buen rendimiento en relación con el riesgo asumido.\n",
        "\n",
        "- Un ratio de Sharpe bajo (<1) sugiere que el rendimiento no compensa adecuadamente el riesgo tomado.\n",
        "\n",
        "- Un ratio de Sharpe negativo indica que la inversión ha tenido un rendimiento inferior a la tasa libre de riesgo."
      ],
      "metadata": {
        "id": "ZVWRHfpwKp8T"
      }
    },
    {
      "cell_type": "markdown",
      "source": [
        "##**EJERCICIO APLICATIVO**\n",
        "La empresa \"FinanzasPro S.A.\" está evaluando dos opciones de inversión para el próximo año:\n",
        "\n",
        "####Inversión TechGrowth####\n",
        "Un fondo de acciones tecnológicas con un rendimiento esperado del 15%, una volatilidad del 20% y una tasa libre de riesgo del 5%.\n",
        "\n",
        "####Inversión SafeBonds####\n",
        "Un fondo de bonos gubernamentales con un rendimiento esperado del 8%, una volatilidad del 5% y la misma tasa libre de riesgo del 5%.\n",
        "\n",
        "**La empresa quiere comparar ambas inversiones utilizando el ratio de Sharpe para decidir cuál es la mejor opción.**\n",
        "\n"
      ],
      "metadata": {
        "id": "ZKqzNQM0MAt6"
      }
    },
    {
      "cell_type": "code",
      "source": [
        "# Variables de la Inversión TechGrowth\n",
        "rendimiento_tech = 0.15  # Rendimiento esperado del 15%\n",
        "volatilidad_tech = 0.20  # Volatilidad del 20%\n",
        "\n",
        "# Variables de la Inversión SafeBonds\n",
        "rendimiento_bonds = 0.08  # Rendimiento esperado del 8%\n",
        "volatilidad_bonds = 0.05   # Volatilidad del 5%\n",
        "\n",
        "# Tasa libre de riesgo (común para ambas inversiones)\n",
        "tasa_libre_riesgo = 0.05  # Tasa libre de riesgo del 5%"
      ],
      "metadata": {
        "id": "50EvRYO2OtNX"
      },
      "execution_count": null,
      "outputs": []
    },
    {
      "cell_type": "code",
      "source": [
        "# Cálculo del ratio de Sharpe para la Inversión TechGrowth\n",
        "sharpe_tech = (rendimiento_tech - tasa_libre_riesgo) / volatilidad_tech\n",
        "\n",
        "# Cálculo del ratio de Sharpe para la Inversión SafeBonds\n",
        "sharpe_bonds = (rendimiento_bonds - tasa_libre_riesgo) / volatilidad_bonds\n",
        "\n",
        "# Mostrar los resultados\n",
        "print(f\"Ratio de Sharpe de la Inversión TechGrowth: {sharpe_tech:.2f}\")\n",
        "print(f\"Ratio de Sharpe de la Inversión SafeBonds: {sharpe_bonds:.2f}\")"
      ],
      "metadata": {
        "colab": {
          "base_uri": "https://localhost:8080/"
        },
        "id": "ODsyrit7PRXf",
        "outputId": "653e155b-ed52-4690-c01e-2803fe2149ec"
      },
      "execution_count": null,
      "outputs": [
        {
          "output_type": "stream",
          "name": "stdout",
          "text": [
            "Ratio de Sharpe de la Inversión TechGrowth: 0.50\n",
            "Ratio de Sharpe de la Inversión SafeBonds: 0.60\n"
          ]
        }
      ]
    },
    {
      "cell_type": "code",
      "source": [
        "# Comparación de los ratios de Sharpe\n",
        "if sharpe_tech > sharpe_bonds:\n",
        "    print(\"La Inversión TechGrowth es mejor que la Inversión SafeBonds según el ratio de Sharpe.\")\n",
        "elif sharpe_bonds > sharpe_tech:\n",
        "    print(\"La Inversión SafeBonds es mejor que la Inversión TechGrowth según el ratio de Sharpe.\")\n",
        "else:\n",
        "    print(\"Ambas inversiones tienen el mismo ratio de Sharpe.\")\n",
        "\n",
        "# Interpretación adicional\n",
        "print(\"\\nInterpretación:\")\n",
        "print(\"- Un ratio de Sharpe más alto indica un mejor rendimiento ajustado al riesgo.\")\n",
        "print(\"- La inversión con el ratio más alto es preferible, ya que ofrece mayor retorno por unidad de riesgo.\")"
      ],
      "metadata": {
        "colab": {
          "base_uri": "https://localhost:8080/"
        },
        "id": "8MC4H3icPTvC",
        "outputId": "0bb7953c-526d-4b53-9366-65ad7c16d755"
      },
      "execution_count": null,
      "outputs": [
        {
          "output_type": "stream",
          "name": "stdout",
          "text": [
            "La Inversión SafeBonds es mejor que la Inversión TechGrowth según el ratio de Sharpe.\n",
            "\n",
            "Interpretación:\n",
            "- Un ratio de Sharpe más alto indica un mejor rendimiento ajustado al riesgo.\n",
            "- La inversión con el ratio más alto es preferible, ya que ofrece mayor retorno por unidad de riesgo.\n"
          ]
        }
      ]
    },
    {
      "cell_type": "markdown",
      "source": [
        "##Conclusión##\n",
        "Explicación del resultado:\n",
        "Aunque la Inversión TechGrowth tiene un rendimiento esperado más alto (15% vs 8%), su volatilidad es mucho mayor (20% vs 5%).\n",
        "\n",
        "La Inversión SafeBonds, aunque tiene un rendimiento más bajo, tiene un ratio de Sharpe más alto (0.60 vs 0.50), lo que indica que ofrece un mejor rendimiento por unidad de riesgo asumido.\n",
        "\n",
        "####**Por lo tanto, FinanzasPro S.A. debería elegir la Inversión SafeBonds.**####"
      ],
      "metadata": {
        "id": "i8YTxZaSPkn6"
      }
    }
  ]
}