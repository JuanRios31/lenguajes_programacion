{
  "nbformat": 4,
  "nbformat_minor": 0,
  "metadata": {
    "colab": {
      "provenance": []
    },
    "kernelspec": {
      "name": "python3",
      "display_name": "Python 3"
    },
    "language_info": {
      "name": "python"
    }
  },
  "cells": [
    {
      "cell_type": "code",
      "source": [],
      "metadata": {
        "id": "ZqeOajgwEpqN"
      },
      "execution_count": null,
      "outputs": []
    },
    {
      "cell_type": "markdown",
      "source": [
        "#**Valor Presente Neto (VPN)**\n",
        "es un indicador financiero que se usa para evaluar la rentabilidad de una inversión o proyecto. Se calcula descontando todos los flujos de caja futuros esperados al valor presente utilizando una tasa de descuento, y luego restando la inversión inicial.\n",
        "\n",
        "**Formula**\n",
        "\n",
        "$$ VPN= \\sum _{t=0}^{n} \\frac{F_t}{(1 + r)^t} - C_o $$\n",
        "\n",
        "donde:\n",
        "\n",
        "- **\\(Ft\\)** = Flujo de caja neto en el periodo \\(t\\).\n",
        "- **\\(r\\)** = Tasa de Descuento\n",
        "- **\\(t\\)** = Número de periodos\n",
        "- **\\(Co\\)** = Inversión inicial\n"
      ],
      "metadata": {
        "id": "cegrmwGzEqIN"
      }
    },
    {
      "cell_type": "markdown",
      "source": [
        "##**Descripción del Proyecto**\n",
        "La empresa está evaluando un proyecto que requiere una inversión inicial de 20000 y anticipa generar entradas de efectivo de 8000 anuales durante los próximos tres años. Para este análisis, se utiliza una tasa de descuento del 7.5%."
      ],
      "metadata": {
        "id": "WkGUeQblEmTx"
      }
    },
    {
      "cell_type": "markdown",
      "source": [
        "**Datos**\n"
      ],
      "metadata": {
        "id": "LPF8o1tAE-r0"
      }
    },
    {
      "cell_type": "code",
      "source": [
        "#Datos\n",
        "inversion_inicial = 20000\n",
        "flujo_de_caja_Año1 = 8000\n",
        "flujo_de_caja_Año2 = 8000\n",
        "flujo_de_caja_Año3 = 8000\n",
        "tasa_de_descuento = 0.075"
      ],
      "metadata": {
        "id": "Jt4OMpq8FAX7"
      },
      "execution_count": null,
      "outputs": []
    },
    {
      "cell_type": "markdown",
      "source": [
        "**Fórmula**"
      ],
      "metadata": {
        "id": "OJNJ-o03FJ4g"
      }
    },
    {
      "cell_type": "code",
      "source": [
        "#Fórmula\n",
        "VPN = (round((flujo_de_caja_Año1/(1 + tasa_de_descuento)**1)+(flujo_de_caja_Año2/(1 + tasa_de_descuento)**2)+(flujo_de_caja_Año3/(1 + tasa_de_descuento)**3)-inversion_inicial,2))\n",
        "print(\"El valor presente neto (VPN) es el siguiente:\",VPN)\n"
      ],
      "metadata": {
        "colab": {
          "base_uri": "https://localhost:8080/"
        },
        "id": "zkUgVBUaFQbq",
        "outputId": "cef7446f-60cc-43e6-d26e-ead0bbcfffe6"
      },
      "execution_count": null,
      "outputs": [
        {
          "output_type": "stream",
          "name": "stdout",
          "text": [
            "El valor presente neto (VPN) es el siguiente: 804.21\n"
          ]
        }
      ]
    },
    {
      "cell_type": "markdown",
      "source": [],
      "metadata": {
        "id": "E37A1xJNFR8b"
      }
    },
    {
      "cell_type": "markdown",
      "source": [
        "**Interpretación**"
      ],
      "metadata": {
        "id": "_4nx_eV5Fhxo"
      }
    },
    {
      "cell_type": "code",
      "source": [
        "#Interpretación\n",
        "if VPN > 0:\n",
        "  print(\"El proyecto es viable, porque su VPN es positivo\")\n",
        "else:\n",
        "  print(\"El proyecto es inviable porque su VPN es negativo\")"
      ],
      "metadata": {
        "colab": {
          "base_uri": "https://localhost:8080/"
        },
        "id": "5MhBulz5FibC",
        "outputId": "175e38d9-e229-4bba-e23d-65585ae4ec33"
      },
      "execution_count": null,
      "outputs": [
        {
          "output_type": "stream",
          "name": "stdout",
          "text": [
            "El proyecto es viable, porque su VPN es positivo\n"
          ]
        }
      ]
    }
  ]
}