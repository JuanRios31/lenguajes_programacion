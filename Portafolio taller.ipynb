{
  "nbformat": 4,
  "nbformat_minor": 0,
  "metadata": {
    "colab": {
      "provenance": [],
      "authorship_tag": "ABX9TyNGW7lspJZacHYqCRq8nLBR",
      "include_colab_link": true
    },
    "kernelspec": {
      "name": "python3",
      "display_name": "Python 3"
    },
    "language_info": {
      "name": "python"
    }
  },
  "cells": [
    {
      "cell_type": "markdown",
      "metadata": {
        "id": "view-in-github",
        "colab_type": "text"
      },
      "source": [
        "<a href=\"https://colab.research.google.com/github/JuanRios31/lenguajes_programacion/blob/main/Portafolio%20taller.ipynb\" target=\"_parent\"><img src=\"https://colab.research.google.com/assets/colab-badge.svg\" alt=\"Open In Colab\"/></a>"
      ]
    },
    {
      "cell_type": "markdown",
      "source": [
        "# Gestión de Portafolio de Inversiones\n",
        "# Parte 1: Declaración de Variables y Listas\n",
        "## Datos de inversión inicial\n",
        "\n"
      ],
      "metadata": {
        "id": "fuRP3AAkKKbZ"
      }
    },
    {
      "cell_type": "code",
      "source": [
        "clientes = [\"Luis Martínez\", \"Valeria Torres\", \"Esteban Ramírez\", \"Lucía Herrera\"]\n",
        "montos_invertidos = [12000, 17000, 21000, 16000]\n",
        "rendimientos = [5.2, 6.3, 4.8, 7.1]"
      ],
      "metadata": {
        "id": "u0Bx75kQKaq6"
      },
      "execution_count": 3,
      "outputs": []
    },
    {
      "cell_type": "markdown",
      "source": [
        "### Crear Tuplas para almacenar la información\n"
      ],
      "metadata": {
        "id": "pT8cGfGeKgYK"
      }
    },
    {
      "cell_type": "code",
      "source": [
        "cliente_1 = (clientes[0], montos_invertidos[0], rendimientos[0])\n",
        "cliente_2 = (clientes[1], montos_invertidos[1], rendimientos[1])\n",
        "cliente_3 = (clientes[2], montos_invertidos[2], rendimientos[2])\n",
        "cliente_4 = (clientes[3], montos_invertidos[3], rendimientos[3])\n",
        "print(\"La base de datos contiene la siguiente información:\")\n",
        "print(cliente_1)\n",
        "print(cliente_2)\n",
        "print(cliente_3)\n",
        "print(cliente_4)"
      ],
      "metadata": {
        "colab": {
          "base_uri": "https://localhost:8080/"
        },
        "id": "xI7oy1Y9Kj1j",
        "outputId": "183e30c1-0f12-494c-ab23-1a827d19e4ee"
      },
      "execution_count": 5,
      "outputs": [
        {
          "output_type": "stream",
          "name": "stdout",
          "text": [
            "La base de datos contiene la siguiente información:\n",
            "('Luis Martínez', 12000, 5.2)\n",
            "('Valeria Torres', 17000, 6.3)\n",
            "('Esteban Ramírez', 21000, 4.8)\n",
            "('Lucía Herrera', 16000, 7.1)\n"
          ]
        }
      ]
    },
    {
      "cell_type": "markdown",
      "source": [
        "# Parte 2: Uso de Diccionarios y Condicionales\n",
        "### Almacenar los datos en un diccionario"
      ],
      "metadata": {
        "id": "fb49WVhlKwVd"
      }
    },
    {
      "cell_type": "code",
      "source": [
        "portafolio = {\n",
        "    \"Luis Martínez\": {\"monto_invertido\": 12000, \"rendimiento\": 5.2},\n",
        "    \"Valeria Torres\": {\"monto_invertido\": 17000, \"rendimiento\": 6.3},\n",
        "    \"Esteban Ramírez\": {\"monto_invertido\": 21000, \"rendimiento\": 4.8},\n",
        "    \"Lucía Herrera\": {\"monto_invertido\": 16000, \"rendimiento\": 7.1}\n",
        "}\n",
        "\n",
        "print(\"Portafolio de inversiones:\")\n",
        "print(portafolio)\n",
        "\n",
        "# Evaluación del rendimiento superior al 5%\n",
        "print(\"\\nClientes con rendimiento superior al 5%:\")\n",
        "for cliente, datos in portafolio.items():\n",
        "    if datos[\"rendimiento\"] > 5:\n",
        "        print(f\"{cliente} tiene un rendimiento de {datos['rendimiento']}%\")"
      ],
      "metadata": {
        "colab": {
          "base_uri": "https://localhost:8080/"
        },
        "id": "nnEoB7bzK24d",
        "outputId": "732d1e71-1b0c-4d76-86cb-6e59aa093bf2"
      },
      "execution_count": 6,
      "outputs": [
        {
          "output_type": "stream",
          "name": "stdout",
          "text": [
            "Portafolio de inversiones:\n",
            "{'Luis Martínez': {'monto_invertido': 12000, 'rendimiento': 5.2}, 'Valeria Torres': {'monto_invertido': 17000, 'rendimiento': 6.3}, 'Esteban Ramírez': {'monto_invertido': 21000, 'rendimiento': 4.8}, 'Lucía Herrera': {'monto_invertido': 16000, 'rendimiento': 7.1}}\n",
            "\n",
            "Clientes con rendimiento superior al 5%:\n",
            "Luis Martínez tiene un rendimiento de 5.2%\n",
            "Valeria Torres tiene un rendimiento de 6.3%\n",
            "Lucía Herrera tiene un rendimiento de 7.1%\n"
          ]
        }
      ]
    },
    {
      "cell_type": "markdown",
      "source": [
        "# Parte 3: Cálculos con Ciclos\n",
        "\n",
        "### Calcular el rendimiento total del portafolio"
      ],
      "metadata": {
        "id": "tmeOq3XLLAze"
      }
    },
    {
      "cell_type": "code",
      "source": [
        "rendimiento_total = 0\n",
        "for cliente, datos in portafolio.items():\n",
        "    rendimiento_cliente = (datos[\"monto_invertido\"] * datos[\"rendimiento\"]) / 100\n",
        "    rendimiento_total += rendimiento_cliente\n",
        "\n",
        "print(f\"\\nEl rendimiento total del portafolio es: ${rendimiento_total:.2f}\")"
      ],
      "metadata": {
        "colab": {
          "base_uri": "https://localhost:8080/"
        },
        "id": "KM6KLVZuLCgG",
        "outputId": "91dea2cf-febd-46e0-d732-2f40c1de315e"
      },
      "execution_count": 7,
      "outputs": [
        {
          "output_type": "stream",
          "name": "stdout",
          "text": [
            "\n",
            "El rendimiento total del portafolio es: $3839.00\n"
          ]
        }
      ]
    },
    {
      "cell_type": "markdown",
      "source": [
        "### Identificar al cliente con mayor rendimiento absoluto"
      ],
      "metadata": {
        "id": "7_D4sXE5LJDf"
      }
    },
    {
      "cell_type": "code",
      "source": [
        "mayor_rendimiento = 0\n",
        "cliente_mayor_rendimiento = \"\"\n",
        "\n",
        "for cliente, datos in portafolio.items():\n",
        "    rendimiento_cliente = (datos[\"monto_invertido\"] * datos[\"rendimiento\"]) / 100\n",
        "    if rendimiento_cliente > mayor_rendimiento:\n",
        "        mayor_rendimiento = rendimiento_cliente\n",
        "        cliente_mayor_rendimiento = cliente\n",
        "\n",
        "print(f\"\\nEl cliente con mayor rendimiento absoluto es {cliente_mayor_rendimiento} con: ${mayor_rendimiento:.2f}\")"
      ],
      "metadata": {
        "colab": {
          "base_uri": "https://localhost:8080/"
        },
        "id": "41gEAOJ_LNMA",
        "outputId": "de9e6e73-1bb2-4a1a-cebe-cda8e258fdb3"
      },
      "execution_count": 8,
      "outputs": [
        {
          "output_type": "stream",
          "name": "stdout",
          "text": [
            "\n",
            "El cliente con mayor rendimiento absoluto es Lucía Herrera con: $1136.00\n"
          ]
        }
      ]
    },
    {
      "cell_type": "markdown",
      "source": [
        "# Parte 4: Modificaciones del Portafolio\n",
        "\n",
        "### 1. Actualizar monto invertido de Esteban Ramírez"
      ],
      "metadata": {
        "id": "2dnpQ1LzLOun"
      }
    },
    {
      "cell_type": "code",
      "source": [
        "portafolio[\"Esteban Ramírez\"][\"monto_invertido\"] = 25000\n",
        "print(\"\\nEl monto invertido por Esteban Ramírez ha sido actualizado:\")\n",
        "print(portafolio[\"Esteban Ramírez\"])"
      ],
      "metadata": {
        "colab": {
          "base_uri": "https://localhost:8080/"
        },
        "id": "SqB0nM3KLS-_",
        "outputId": "4fa246c9-7202-485e-ec03-070227b4ea5b"
      },
      "execution_count": 9,
      "outputs": [
        {
          "output_type": "stream",
          "name": "stdout",
          "text": [
            "\n",
            "El monto invertido por Esteban Ramírez ha sido actualizado:\n",
            "{'monto_invertido': 25000, 'rendimiento': 4.8}\n"
          ]
        }
      ]
    },
    {
      "cell_type": "markdown",
      "source": [
        "### 2. Añadir nuevo cliente: Diego Salazar"
      ],
      "metadata": {
        "id": "U1ochfh2LWtR"
      }
    },
    {
      "cell_type": "code",
      "source": [
        "portafolio[\"Diego Salazar\"] = {\"monto_invertido\": 23000, \"rendimiento\": 6.9}\n",
        "print(\"\\nDiego Salazar ha sido añadido al portafolio:\")\n",
        "print(\"Diego Salazar:\", portafolio[\"Diego Salazar\"])"
      ],
      "metadata": {
        "colab": {
          "base_uri": "https://localhost:8080/"
        },
        "id": "CwXZ6h05LgPh",
        "outputId": "15490917-d029-40cb-df32-f793896e99b0"
      },
      "execution_count": 10,
      "outputs": [
        {
          "output_type": "stream",
          "name": "stdout",
          "text": [
            "\n",
            "Diego Salazar ha sido añadido al portafolio:\n",
            "Diego Salazar: {'monto_invertido': 23000, 'rendimiento': 6.9}\n"
          ]
        }
      ]
    },
    {
      "cell_type": "markdown",
      "source": [
        "### 3. Remover cliente: Lucía Herrera\n"
      ],
      "metadata": {
        "id": "cl5S-p4TLdwZ"
      }
    },
    {
      "cell_type": "code",
      "source": [
        "portafolio.pop(\"Lucía Herrera\")\n",
        "print(\"\\nLucía Herrera ha sido removida del portafolio.\")\n",
        "\n",
        "print(\"\\nPortafolio actualizado:\")\n",
        "print(portafolio)"
      ],
      "metadata": {
        "colab": {
          "base_uri": "https://localhost:8080/"
        },
        "id": "yOpE4Gs0LnTr",
        "outputId": "f865739f-17a1-454a-f388-37b7dcbba1f6"
      },
      "execution_count": 11,
      "outputs": [
        {
          "output_type": "stream",
          "name": "stdout",
          "text": [
            "\n",
            "Lucía Herrera ha sido removida del portafolio.\n",
            "\n",
            "Portafolio actualizado:\n",
            "{'Luis Martínez': {'monto_invertido': 12000, 'rendimiento': 5.2}, 'Valeria Torres': {'monto_invertido': 17000, 'rendimiento': 6.3}, 'Esteban Ramírez': {'monto_invertido': 25000, 'rendimiento': 4.8}, 'Diego Salazar': {'monto_invertido': 23000, 'rendimiento': 6.9}}\n"
          ]
        }
      ]
    }
  ]
}